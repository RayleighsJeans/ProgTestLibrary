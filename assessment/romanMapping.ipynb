{
 "cells": [
  {
   "cell_type": "code",
   "execution_count": null,
   "metadata": {},
   "outputs": [],
   "source": [
    "romanMap = {\n",
    "    1000 : \"M\",\n",
    "    900 : \"CM\",\n",
    "    500 : \"D\",\n",
    "    400 : \"CD\",\n",
    "    100 : \"C\",\n",
    "    90 : \"XC\",\n",
    "    50 : \"L\",\n",
    "    40 : \"XL\",\n",
    "    10 : \"X\",\n",
    "    9 : \"IX\",\n",
    "    5 : \"V\",\n",
    "    4 : \"IV\",\n",
    "    1 : \"I\"\n",
    "}\n",
    "\n",
    "nums = [1, 49, 23, 35, 994, 1995, 2015]\n",
    "\n",
    "for num in nums:\n",
    "    result = ''\n",
    "    for roman in romanMap.keys():\n",
    "        x, y = divmod(num, roman)\n",
    "        # print(num, roman, x, y, romanMap[roman] * x)\n",
    "        result += (romanMap[roman] * x)\n",
    "        num -= (roman * x)\n",
    "        if num == 0:\n",
    "            break\n",
    "    print(result)"
   ]
  },
  {
   "cell_type": "code",
   "execution_count": null,
   "metadata": {},
   "outputs": [],
   "source": [
    "n = 1000000000\n",
    "result = [0, []]\n",
    "for i, s in enumerate(bin(n)[2:]):\n",
    "    if s == '1':\n",
    "        result[0] += 1\n",
    "        result[1].append(i)\n",
    "\n",
    "print(result[0])\n",
    "for r in result[1]:\n",
    "    print(r)"
   ]
  }
 ],
 "metadata": {
  "language_info": {
   "name": "python"
  }
 },
 "nbformat": 4,
 "nbformat_minor": 2
}
